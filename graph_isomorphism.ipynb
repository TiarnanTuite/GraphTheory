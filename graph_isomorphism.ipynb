{
 "cells": [
  {
   "attachments": {},
   "cell_type": "markdown",
   "metadata": {},
   "source": [
    "<h1>Graph-Isomorphism Problem</h1><hr>"
   ]
  },
  {
   "attachments": {},
   "cell_type": "markdown",
   "metadata": {},
   "source": [
    "<h4>Author: Tiarnan Tuite</h4>\n",
    "\n",
    "<h4>Installations needed:</h4>\n",
    "<ul>\n",
    "<li><u><b>pip install networkx</li>\n",
    "</ul>"
   ]
  },
  {
   "attachments": {},
   "cell_type": "markdown",
   "metadata": {},
   "source": [
    "<h2>Introduction</h2>\n",
    "This is my Graph theory project on the Graph-Isomorphism Problem. After reading through this notebook, you should have an understanding of the graph-isomorphism problem and the meaning of graphs and isomorphism individually."
   ]
  },
  {
   "attachments": {},
   "cell_type": "markdown",
   "metadata": {},
   "source": [
    "<h2>Usefill definitions and keywords</h2>"
   ]
  },
  {
   "attachments": {},
   "cell_type": "markdown",
   "metadata": {},
   "source": [
    "<h2>What is the Graph-Isomorphism Probelm?</h2>\n",
    "<a href=\"https://www.youtube.com/watch?v=EwV4Puk2coU&ab_channel=WrathofMath\">(1)</a>To understand the Graph-isomorphism problem, we first have to understand what isomorphic graphs are.\n",
    "Two graphs are said to be isomorphic if they have the same structure, that is, if there exists a bijective function (a function that maps each vertex in one graph to a unique vertex in the other graph, and vice versa) between their vertices such that the adjacency relationship between vertices is preserved.\n",
    "\n",
    "In other words, two graphs G and H are isomorphic if there exists a function f from the vertices of G to the vertices of H such that:\n",
    "<ul>\n",
    "    <li>f is a bijection (i.e., a one-to-one and onto function)</li>\n",
    "    <li>For any two vertices u and v in G, u and v are adjacent in G if and only if f(u) and f(v) are adjacent in H.</li>\n",
    "</ul>\n"
   ]
  },
  {
   "attachments": {
    "image.png": {
     "image/png": "[encoded data removed]"
    }
   },
   "cell_type": "markdown",
   "metadata": {},
   "source": [
    "![image.png](attachment:image.png)"
   ]
  },
  {
   "cell_type": "code",
   "execution_count": 2,
   "metadata": {},
   "outputs": [
    {
     "name": "stdout",
     "output_type": "stream",
     "text": [
      "G and H are isomorphic\n"
     ]
    }
   ],
   "source": [
    "import networkx as nx\n",
    "\n",
    "# Create two graphs\n",
    "G = nx.Graph()\n",
    "G.add_edges_from([(1,2), (1,3), (2,3), (3,4)])\n",
    "H = nx.Graph()\n",
    "H.add_edges_from([('A','B'), ('A','C'), ('B','C'), ('C','D')])\n",
    "\n",
    "# Check if G and H are isomorphic\n",
    "if nx.is_isomorphic(G, H):\n",
    "    print(\"G and H are isomorphic\")\n",
    "else:\n",
    "    print(\"G and H are not isomorphic\")\n"
   ]
  },
  {
   "attachments": {},
   "cell_type": "markdown",
   "metadata": {},
   "source": [
    "<h2>Importance of the Graph-Isomorphism probelm</h2>\n",
    "<a href=\"https://en.wikipedia.org/wiki/Graph_isomorphism_problem\">(2)</a>The graph isomorphism problem is important for both computer science and practical applications in various fields, such as chemistry, biology, and computer vision.\n",
    "\n",
    "In computer science, the graph isomorphism problem is a fundamental problem in computational complexity theory. The problem asks whether two given graphs are isomorphic, meaning they have the same structure and can be transformed into each other by relabeling their vertices. The problem is one of the few remaining problems in computational complexity that is not known to be in either the class P (solvable in polynomial time) or NP-complete (NP-hard and in NP).\n",
    "\n",
    "In practical applications, the graph isomorphism problem is important in fields such as chemistry, where it is used to study the structure of molecules. By representing a molecule as a graph, chemists can compare the structures of different molecules to determine their properties and interactions. In biology, the graph isomorphism problem is used to study the structure of proteins and DNA molecules. In computer vision, the graph isomorphism problem is used for image recognition and matching, where graphs are used to represent images and the problem is used to determine whether two images are the same or similar."
   ]
  },
  {
   "attachments": {},
   "cell_type": "markdown",
   "metadata": {},
   "source": [
    "<h2>History of the Graph-Isomorphism probelm</h2>\n",
    "<a href=\"https://anthonybonato.com/2017/01/18/graph-isomorphism-and-babais-proof/#:~:text=Laszlo%20Babai.,algorithmic%20complexity%2C%20and%20group%20theory.\">(3)</a>The graph isomorphism problem has been known for centuries and has been studied by many mathematicians, but the formalization of the problem and its name are due to Philip Hall, who introduced the concept in a paper published in 1949. However, the problem received more attention in the 1970s, when it was studied by Eugene M. Luks and Laszlo Babai, who made significant contributions to its understanding and complexity.\n",
    "\n",
    " Laszlo Babai shocked the mathematical world when he claimed that the running time of the graph isomorphism problem is quasi-polynomial time. The graph isomorphism\n",
    " problem remains an active area of research in theoretical computer science and mathematics."
   ]
  },
  {
   "attachments": {},
   "cell_type": "markdown",
   "metadata": {},
   "source": [
    "<h2>References</h2>\n",
    "(1) <a href=\"https://www.youtube.com/watch?v=EwV4Puk2coU&ab_channel=WrathofMath\">https://www.youtube.com/watch?v=EwV4Puk2coU&ab_channel=WrathofMath</a>\n",
    "\n",
    "(2) <a href=\"https://en.wikipedia.org/wiki/Graph_isomorphism_problem\">https://en.wikipedia.org/wiki/Graph_isomorphism_problem</a>\n",
    "\n",
    "(3) <a href=\"https://anthonybonato.com/2017/01/18/graph-isomorphism-and-babais-proof/#:~:text=Laszlo%20Babai.,algorithmic%20complexity%2C%20and%20group%20theory.\">https://anthonybonato.com/2017/01/18/graph-isomorphism-and-babais-proof/#:~:text=Laszlo%20Babai.,algorithmic%20complexity%2C%20and%20group%20theory.</a>\n"
   ]
  }
 ],
 "metadata": {
  "kernelspec": {
   "display_name": "Python 3",
   "language": "python",
   "name": "python3"
  },
  "language_info": {
   "codemirror_mode": {
    "name": "ipython",
    "version": 3
   },
   "file_extension": ".py",
   "mimetype": "text/x-python",
   "name": "python",
   "nbconvert_exporter": "python",
   "pygments_lexer": "ipython3",
   "version": "3.10.10"
  },
  "orig_nbformat": 4
 },
 "nbformat": 4,
 "nbformat_minor": 2
}
