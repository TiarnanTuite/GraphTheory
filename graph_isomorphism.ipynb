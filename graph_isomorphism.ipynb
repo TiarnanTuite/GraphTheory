{
 "cells": [
  {
   "attachments": {},
   "cell_type": "markdown",
   "metadata": {},
   "source": [
    "<h1>Graph-Isomorphism Problem</h1><hr>"
   ]
  },
  {
   "attachments": {},
   "cell_type": "markdown",
   "metadata": {},
   "source": [
    "<h4>Author: Tiarnan Tuite</h4>"
   ]
  },
  {
   "attachments": {},
   "cell_type": "markdown",
   "metadata": {},
   "source": [
    "<h2>Introduction</h2>\n",
    "This is my Graph theory project on the Graph-Isomorphism Problem. After reading through this notebook, you should have an understanding of the graph-isomorphism problem and the meaning of graphs and isomorphism individually."
   ]
  },
  {
   "attachments": {},
   "cell_type": "markdown",
   "metadata": {},
   "source": [
    "<h2>What is the Graph-Isomorphism Probelm?</h2>\n",
    "<a href=\"https://www.youtube.com/watch?v=EwV4Puk2coU&ab_channel=WrathofMath\">(1)</a>To understand the Graph-isomorphism problem, we first have to understand what isomorphic graphs are.\n",
    "Two graphs are said to be isomorphic if they have the same structure, that is, if there exists a bijective function (a function that maps each vertex in one graph to a unique vertex in the other graph, and vice versa) between their vertices such that the adjacency relationship between vertices is preserved.\n",
    "\n",
    "In other words, two graphs G and H are isomorphic if there exists a function f from the vertices of G to the vertices of H such that:\n",
    "<ul>\n",
    "    <li>f is a bijection (i.e., a one-to-one and onto function)</li>\n",
    "    <li>For any two vertices u and v in G, u and v are adjacent in G if and only if f(u) and f(v) are adjacent in H.</li>\n",
    "</ul>\n"
   ]
  },
  {
   "cell_type": "code",
   "execution_count": 2,
   "metadata": {},
   "outputs": [],
   "source": [
    "import networkx as nx\n",
    "\n",
    "# Create two graphs\n",
    "G = nx.Graph()\n",
    "G.add_edges_from([(1,2), (1,3), (2,3), (3,4)])\n",
    "H = nx.Graph()\n",
    "H.add_edges_from([('A','B'), ('A','C'), ('B','C'), ('C','D')])\n",
    "\n",
    "# Check if G and H are isomorphic\n",
    "if nx.is_isomorphic(G, H):\n",
    "    print(\"G and H are isomorphic\")\n",
    "else:\n",
    "    print(\"G and H are not isomorphic\")\n"
   ]
  },
  {
   "attachments": {},
   "cell_type": "markdown",
   "metadata": {},
   "source": [
    "<h2>References</h2>\n",
    "(1) <a href=\"https://www.youtube.com/watch?v=EwV4Puk2coU&ab_channel=WrathofMath\">https://www.youtube.com/watch?v=EwV4Puk2coU&ab_channel=WrathofMath</a>\n"
   ]
  }
 ],
 "metadata": {
  "kernelspec": {
   "display_name": "Python 3",
   "language": "python",
   "name": "python3"
  },
  "language_info": {
   "codemirror_mode": {
    "name": "ipython",
    "version": 3
   },
   "file_extension": ".py",
   "mimetype": "text/x-python",
   "name": "python",
   "nbconvert_exporter": "python",
   "pygments_lexer": "ipython3",
   "version": "3.10.10"
  },
  "orig_nbformat": 4
 },
 "nbformat": 4,
 "nbformat_minor": 2
}
